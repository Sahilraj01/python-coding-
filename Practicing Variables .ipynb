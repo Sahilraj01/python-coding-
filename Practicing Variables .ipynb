{
 "cells": [
  {
   "cell_type": "markdown",
   "id": "5b20af98",
   "metadata": {},
   "source": [
    "# Practice your variables!\n",
    "Course: BBA 108-Essentials of Computing & Coding\n",
    "\n",
    "Submission date: Sunday (19/09/21), 11:59 p.m.\n",
    "\n",
    "Hey everyone! This is a practice bonus assignment worth 10 points. I **highly** encourage all of you to do this.\n",
    "\n",
    "Please contact the following **on Slack** if there are any questions or issues:\n",
    "\n",
    "- @Shourya Watwani \n",
    "- @Vanshika Raj \n",
    "- @Aryan Gupta \n",
    "\n",
    "Thank you! Happy coding :)\n"
   ]
  },
  {
   "cell_type": "code",
   "execution_count": null,
   "id": "d7643d51",
   "metadata": {},
   "outputs": [],
   "source": [
    "# Create and print a variable to tell us your name."
   ]
  },
  {
   "cell_type": "code",
   "execution_count": null,
   "id": "a48e84de",
   "metadata": {},
   "outputs": [],
   "source": [
    "# Create and print a variable to tell us your age."
   ]
  },
  {
   "cell_type": "code",
   "execution_count": null,
   "id": "fb242ec5",
   "metadata": {},
   "outputs": [],
   "source": [
    "# Create and print a variable to tell us how many times you've taken a trip within India."
   ]
  },
  {
   "cell_type": "code",
   "execution_count": null,
   "id": "ac849402",
   "metadata": {},
   "outputs": [],
   "source": [
    "# Create and print a variable to tell us how many times you've taken a trip outside India."
   ]
  },
  {
   "cell_type": "code",
   "execution_count": 3,
   "id": "bf7668ee",
   "metadata": {},
   "outputs": [],
   "source": [
    "# Create and print a variable to calculate the total number of trips you've taken."
   ]
  },
  {
   "cell_type": "code",
   "execution_count": 4,
   "id": "52224f94",
   "metadata": {},
   "outputs": [],
   "source": [
    "# Create and print a variable to tell us total number of trips you've taken, using the numeric value in a sentence."
   ]
  },
  {
   "cell_type": "code",
   "execution_count": 6,
   "id": "612c68f3",
   "metadata": {},
   "outputs": [],
   "source": [
    "# Create and print a variable to tell us whether the statement-\n",
    "# -\"I have taken more trips within India than outside India\" is true or false using boolean variables."
   ]
  },
  {
   "cell_type": "code",
   "execution_count": null,
   "id": "aaee2c68",
   "metadata": {},
   "outputs": [],
   "source": [
    "# Create and print a variable to calculate the average number of trips you've taken in a year using-\n",
    "# your total number of trips and your age."
   ]
  },
  {
   "cell_type": "code",
   "execution_count": null,
   "id": "810f16f4",
   "metadata": {},
   "outputs": [],
   "source": [
    "# Create and print a variable to tell us average number of trips you've taken, using the numeric value in a sentence."
   ]
  }
 ],
 "metadata": {
  "kernelspec": {
   "display_name": "Python 3",
   "language": "python",
   "name": "python3"
  },
  "language_info": {
   "codemirror_mode": {
    "name": "ipython",
    "version": 3
   },
   "file_extension": ".py",
   "mimetype": "text/x-python",
   "name": "python",
   "nbconvert_exporter": "python",
   "pygments_lexer": "ipython3",
   "version": "3.8.8"
  }
 },
 "nbformat": 4,
 "nbformat_minor": 5
}
